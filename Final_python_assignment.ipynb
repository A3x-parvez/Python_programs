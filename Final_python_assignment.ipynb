{
  "nbformat": 4,
  "nbformat_minor": 0,
  "metadata": {
    "colab": {
      "provenance": [],
      "authorship_tag": "ABX9TyOdhqz0iJBNzMRSK/oH1TF9",
      "include_colab_link": true
    },
    "kernelspec": {
      "name": "python3",
      "display_name": "Python 3"
    },
    "language_info": {
      "name": "python"
    }
  },
  "cells": [
    {
      "cell_type": "markdown",
      "metadata": {
        "id": "view-in-github",
        "colab_type": "text"
      },
      "source": [
        "<a href=\"https://colab.research.google.com/github/A3x-parvez/Python_programs/blob/main/Final_python_assignment.ipynb\" target=\"_parent\"><img src=\"https://colab.research.google.com/assets/colab-badge.svg\" alt=\"Open In Colab\"/></a>"
      ]
    },
    {
      "cell_type": "markdown",
      "source": [
        "1.Write a program in Python to find the addition & average of three float numbers.\n"
      ],
      "metadata": {
        "id": "JwAaj9fIoljF"
      }
    },
    {
      "cell_type": "code",
      "source": [
        "n1 = float(input(\"Enter number 1 :\"))\n",
        "n2 = float(input(\"Enter number 2 :\"))\n",
        "n3 = float(input(\"Enter number 3 :\"))\n",
        "\n",
        "def sum(n1,n2,n3):\n",
        "    print(\"The sum is = \",(n1+n2+n3))\n",
        "\n",
        "def avrg(n1,n2,n3):\n",
        "    a=(n1+n2+n3)/3\n",
        "    print(\"The Avg is = \",a)\n",
        "\n",
        "sum(n1,n2,n3)\n",
        "avrg(n1,n2,n3)"
      ],
      "metadata": {
        "colab": {
          "base_uri": "https://localhost:8080/"
        },
        "id": "wE-T13tDpZ_A",
        "outputId": "ee02d71c-7241-4880-ec5d-a7b6ab340809"
      },
      "execution_count": null,
      "outputs": [
        {
          "output_type": "stream",
          "name": "stdout",
          "text": [
            "Enter number 1 :10.4\n",
            "Enter number 2 :20.5\n",
            "Enter number 3 :30.1\n",
            "The sum is =  61.0\n",
            "The Avg is =  20.333333333333332\n"
          ]
        }
      ]
    },
    {
      "cell_type": "markdown",
      "source": [
        "2.Write a program in Python to find the volume of a sphere with radius  6cm.\n"
      ],
      "metadata": {
        "id": "2cPyWtIwpg_I"
      }
    },
    {
      "cell_type": "code",
      "source": [
        "radious = float(input(\"Enter the radious :\"))\n",
        "pi = 3.14\n",
        "\n",
        "def volume(r):\n",
        "    v=(4/3)*pi*r*r*r\n",
        "    print(f\"The volume of the sphere is = {v}\")\n",
        "\n",
        "volume(radious)"
      ],
      "metadata": {
        "colab": {
          "base_uri": "https://localhost:8080/"
        },
        "id": "HlvilJMvpk3O",
        "outputId": "6ee5fa0a-2b90-46ff-9604-eddf89dcff81"
      },
      "execution_count": null,
      "outputs": [
        {
          "output_type": "stream",
          "name": "stdout",
          "text": [
            "Enter the radious :6\n",
            "The volume of the sphere is = 904.3199999999998\n"
          ]
        }
      ]
    },
    {
      "cell_type": "markdown",
      "source": [
        "3.Write a program in Python to find the area of a circle.\n"
      ],
      "metadata": {
        "id": "hiwRASA_pyyZ"
      }
    },
    {
      "cell_type": "code",
      "source": [
        "rad = float(input(\"Enter the radious : \"))\n",
        "PI =22/7\n",
        "def area(r):\n",
        "    a = PI*r*r\n",
        "    return a\n",
        "\n",
        "print(f\"The area of the circle is : {area(rad)}\")"
      ],
      "metadata": {
        "colab": {
          "base_uri": "https://localhost:8080/"
        },
        "id": "7BNOtAY6pv_m",
        "outputId": "0eac6809-dc6d-4472-af4d-e233de3d111f"
      },
      "execution_count": null,
      "outputs": [
        {
          "output_type": "stream",
          "name": "stdout",
          "text": [
            "Enter the radious : 4\n",
            "The area of the circle is : 50.285714285714285\n"
          ]
        }
      ]
    },
    {
      "cell_type": "markdown",
      "source": [
        "4.Write a program in Python to compute simple Interest.\n"
      ],
      "metadata": {
        "id": "IFUozenPqDBI"
      }
    },
    {
      "cell_type": "code",
      "source": [
        "p = float(input(\"Enter the principle amount : \"))\n",
        "r = float(input(\"Enter the rate of interest : \"))\n",
        "t = float(input(\"Enter the time : \"))\n",
        "\n",
        "def simple_interest():\n",
        "    interest = (p*t*r)/100\n",
        "    return interest\n",
        "\n",
        "val = simple_interest()\n",
        "print(f\"The simple interest of Rs:{p} for {t} years with {r}% interest is = {val}\")\n",
        "print(f\"The total amount you need to pay is = {p+val}\")"
      ],
      "metadata": {
        "colab": {
          "base_uri": "https://localhost:8080/"
        },
        "id": "IQi-C0e5p_8k",
        "outputId": "c5931d33-2c25-4b17-d877-7413206f86e5"
      },
      "execution_count": null,
      "outputs": [
        {
          "output_type": "stream",
          "name": "stdout",
          "text": [
            "Enter the principle amount : 10000\n",
            "Enter the rate of interest : 10\n",
            "Enter the time : 2\n",
            "The simple interest of Rs:10000.0 for 2.0 years with 10.0% interest is = 2000.0\n",
            "The total amount you need to pay is = 12000.0\n"
          ]
        }
      ]
    },
    {
      "cell_type": "markdown",
      "source": [
        "5.Write a program in Python to swap two numbers without using third variable\n"
      ],
      "metadata": {
        "id": "NhuNXJ2tqi3-"
      }
    },
    {
      "cell_type": "code",
      "source": [
        "n1 = 10\n",
        "n2 = 20\n",
        "\n",
        "print(f\"Before swap \\n 1st num ={n1} & 2nd num ={n2}\")\n",
        "\n",
        "n2 , n1 = n1 , n2\n",
        "\n",
        "print(f\"After swap \\n 1st num ={n1} & 2nd num ={n2}\")"
      ],
      "metadata": {
        "colab": {
          "base_uri": "https://localhost:8080/"
        },
        "id": "tFBwFJgNqfuo",
        "outputId": "4bb3e9d2-3e7d-4615-f05b-baadd76770e6"
      },
      "execution_count": null,
      "outputs": [
        {
          "output_type": "stream",
          "name": "stdout",
          "text": [
            "Before swap \n",
            " 1st num =10 & 2nd num =20\n",
            "After swap \n",
            " 1st num =20 & 2nd num =10\n"
          ]
        }
      ]
    },
    {
      "cell_type": "markdown",
      "source": [
        "6.Write a program in Python to convert any temperature from Celcius to Fahrenheit.\n"
      ],
      "metadata": {
        "id": "VyoEAAnaq1mo"
      }
    },
    {
      "cell_type": "code",
      "source": [
        "print(\"    ## Welcome to the tempreature converter ##\")\n",
        "print(\"--------------------------------------------------\")\n",
        "while True:\n",
        "    temp = input(\"Enter the tempreature (eg:100C or 100F / X for Exit) : \")\n",
        "    temp=temp.lower()\n",
        "    temp_n=temp.replace(\".\",\"\")\n",
        "\n",
        "    if temp_n.startswith(\"-\"):\n",
        "        temp_n=temp_n.replace(\"-\",\"\",1)\n",
        "\n",
        "    l=len(temp_n)\n",
        "    conv_temp=0\n",
        "\n",
        "\n",
        "    if (temp_n[0:l-1].isdigit() and (temp_n.endswith(\"f\") or temp_n.endswith(\"c\")) and temp.count(\".\")<=1):\n",
        "        print(\"Tempreature Convert Sucessfully.\")\n",
        "        if \"c\" in temp:\n",
        "            temp_val = float(temp.replace(\"c\",\"\"))\n",
        "            conv_temp = ((9/5)*temp_val)+32\n",
        "            print(f\"Ans : {temp_val}C in Fahrenheit is {conv_temp}F .\\n\")\n",
        "\n",
        "        elif \"f\" in temp:\n",
        "            temp_val = float(temp.replace(\"f\",\"\"))\n",
        "            conv_temp = (temp_val-32)*(5/9)\n",
        "            print(f\"Ans : {temp_val}F in Celcious is {conv_temp}C .\\n\")\n",
        "\n",
        "    elif \"x\" in temp:\n",
        "        print(\"Sucessfully Exit.\")\n",
        "        break\n",
        "\n",
        "    else:\n",
        "        print(\"Enter valid input and follow the format.\\n\")\n",
        "\n"
      ],
      "metadata": {
        "colab": {
          "base_uri": "https://localhost:8080/"
        },
        "id": "JpkHlTKCq7E3",
        "outputId": "f18e0ee1-c9c0-4984-ce5b-a380fb56611b"
      },
      "execution_count": null,
      "outputs": [
        {
          "output_type": "stream",
          "name": "stdout",
          "text": [
            "    ## Welcome to the tempreature converter ##\n",
            "--------------------------------------------------\n",
            "Enter the tempreature (eg:100C or 100F / X for Exit) : 100f\n",
            "Tempreature Convert Sucessfully.\n",
            "Ans : 100.0F in Celcious is 37.77777777777778C .\n",
            "\n",
            "Enter the tempreature (eg:100C or 100F / X for Exit) : 20c\n",
            "Tempreature Convert Sucessfully.\n",
            "Ans : 20.0C in Fahrenheit is 68.0F .\n",
            "\n",
            "Enter the tempreature (eg:100C or 100F / X for Exit) : 68.0f\n",
            "Tempreature Convert Sucessfully.\n",
            "Ans : 68.0F in Celcious is 20.0C .\n",
            "\n",
            "Enter the tempreature (eg:100C or 100F / X for Exit) : x\n",
            "Sucessfully Exit.\n"
          ]
        }
      ]
    },
    {
      "cell_type": "markdown",
      "source": [
        "7.Write a program in Python to convert a given number of days into days, month, year and week.\n"
      ],
      "metadata": {
        "id": "fZKORxRZra8-"
      }
    },
    {
      "cell_type": "code",
      "source": [
        "days = int(input(\"Enter the number of days: \"))\n",
        "\n",
        "years = days // 365\n",
        "remaining_days = days % 365\n",
        "\n",
        "months = remaining_days // 30\n",
        "remaining_days %= 30\n",
        "\n",
        "weeks = remaining_days // 7\n",
        "remaining_days %= 7\n",
        "\n",
        "print(\"Years:\", years)\n",
        "print(\"Months:\", months)\n",
        "print(\"Weeks:\", weeks)\n",
        "print(\"Days:\", remaining_days)"
      ],
      "metadata": {
        "colab": {
          "base_uri": "https://localhost:8080/"
        },
        "id": "avterdoHrby7",
        "outputId": "d57e8962-3f96-4da0-f050-38285ab09ce6"
      },
      "execution_count": null,
      "outputs": [
        {
          "output_type": "stream",
          "name": "stdout",
          "text": [
            "Enter the number of days: 375\n",
            "Years: 1\n",
            "Months: 0\n",
            "Weeks: 1\n",
            "Days: 3\n"
          ]
        }
      ]
    },
    {
      "cell_type": "markdown",
      "source": [
        "8.Write a Python Program to find the gravitational force acting between two objects.\n",
        "[G=N*(m1*m2)/d^2]\n"
      ],
      "metadata": {
        "id": "TUn4GHqSsOCO"
      }
    },
    {
      "cell_type": "code",
      "source": [
        "m1 = float(input(\"Enter the mass of 1st object : \"))\n",
        "m2 = float(input(\"Enter the mass of 2nd object : \"))\n",
        "l = float(input(\"Enter the distance between the objects : \"))\n",
        "G = 6.67*10\n",
        "def g_force():\n",
        "    gf = (G*m1*m2)/l**2\n",
        "    return gf\n",
        "\n",
        "print(f\"The Gravitational force between this two objects is : {g_force()}N .\")"
      ],
      "metadata": {
        "colab": {
          "base_uri": "https://localhost:8080/"
        },
        "id": "9ZDSYZdPsXmP",
        "outputId": "1d5afe93-3c5a-4e08-de9c-916a5c46fe72"
      },
      "execution_count": null,
      "outputs": [
        {
          "output_type": "stream",
          "name": "stdout",
          "text": [
            "Enter the mass of 1st object : 10\n",
            "Enter the mass of 2nd object : 20\n",
            "Enter the distance between the objects : 5\n",
            "The Gravitational force between this two objects is : 533.6N .\n"
          ]
        }
      ]
    },
    {
      "cell_type": "markdown",
      "source": [
        "9.Write a program in Python to find given no is Even or Odd.\n"
      ],
      "metadata": {
        "id": "qcaUVUx4swj3"
      }
    },
    {
      "cell_type": "code",
      "source": [
        "while True:\n",
        "    num= input(\"Enter the number (X for Exit): \")\n",
        "\n",
        "    if num==\"x\":\n",
        "        print(\"Sucessfully Exit.\")\n",
        "        break\n",
        "    else:\n",
        "        num=float(num)\n",
        "        if num%2==0:\n",
        "            print(f\"The number {num} is an Even number.\")\n",
        "        else:\n",
        "            print(f\"The number {num} is an Odd number.\")\n"
      ],
      "metadata": {
        "colab": {
          "base_uri": "https://localhost:8080/"
        },
        "id": "ft6_yJ6Rs48x",
        "outputId": "0e859021-119c-40a2-b398-276e19e571cc"
      },
      "execution_count": null,
      "outputs": [
        {
          "output_type": "stream",
          "name": "stdout",
          "text": [
            "Enter the number (X for Exit): 12\n",
            "The number 12.0 is an Even number.\n",
            "Enter the number (X for Exit): 13\n",
            "The number 13.0 is an Odd number.\n",
            "Enter the number (X for Exit): x\n",
            "Sucessfully Exit.\n"
          ]
        }
      ]
    },
    {
      "cell_type": "markdown",
      "source": [
        "10.Take input from user if it is greater than 15 print two times of difference if it’s less than 15 print four times of difference.\n"
      ],
      "metadata": {
        "id": "A0xl8Y8PuBxU"
      }
    },
    {
      "cell_type": "code",
      "source": [
        "num = float(input(\"Enter the number : \"))\n",
        "\n",
        "if num > 15:\n",
        "  difference = num - 15\n",
        "  print(2 * difference)\n",
        "elif num < 15:\n",
        "  difference = 15 - num\n",
        "  print(4 * difference)\n",
        "else:\n",
        "  print(\"The number is 15.\")"
      ],
      "metadata": {
        "colab": {
          "base_uri": "https://localhost:8080/"
        },
        "id": "P2GU4ZZQuHHG",
        "outputId": "cf4acb6a-191d-4123-b2c3-70259014faa6"
      },
      "execution_count": null,
      "outputs": [
        {
          "output_type": "stream",
          "name": "stdout",
          "text": [
            "Enter the number : 20\n",
            "10.0\n"
          ]
        }
      ]
    },
    {
      "cell_type": "markdown",
      "source": [
        "11.Write a program in Python to find largest among three numbers.\n"
      ],
      "metadata": {
        "id": "C3ka4wIdustp"
      }
    },
    {
      "cell_type": "code",
      "source": [
        "num1 = float(input(\"Enter the first number: \"))\n",
        "num2 = float(input(\"Enter the second number: \"))\n",
        "num3 = float(input(\"Enter the third number: \"))\n",
        "largest_number=0\n",
        "\n",
        "if num1 >= num2 and num1 >= num3:\n",
        "    largest_number = num1\n",
        "elif num2 >= num1 and num2 >= num3:\n",
        "    largest_number = num2\n",
        "else:\n",
        "    largest_number = num3\n",
        "\n",
        "print(\"The largest number is:\", largest_number)"
      ],
      "metadata": {
        "colab": {
          "base_uri": "https://localhost:8080/"
        },
        "id": "wVMFRjtouygP",
        "outputId": "a37d6f09-7097-4893-a020-b6d7359b7290"
      },
      "execution_count": null,
      "outputs": [
        {
          "output_type": "stream",
          "name": "stdout",
          "text": [
            "Enter the first number: 12\n",
            "Enter the second number: 34\n",
            "Enter the third number: 23\n",
            "The largest number is: 34.0\n"
          ]
        }
      ]
    },
    {
      "cell_type": "markdown",
      "source": [
        "12.Write a program in Python to check a triangle is equilateral,scalene or isosclees.."
      ],
      "metadata": {
        "id": "4fbPdk31v9_I"
      }
    },
    {
      "cell_type": "code",
      "source": [
        "s1 = float(input(\"Enter the 1st side : \"))\n",
        "s2 = float(input(\"Enter the 1st side : \"))\n",
        "s3 = float(input(\"Enter the 1st side : \"))\n",
        "\n",
        "if s1 == s2 == s3:\n",
        "    print(\"The triangle is equilateral.\")\n",
        "elif s1 == s2 or s1 == s3 or s2 == s3:\n",
        "    print(\"The triangle is isosceles.\")\n",
        "else:\n",
        "    print(\"The triangle is scalene.\")"
      ],
      "metadata": {
        "colab": {
          "base_uri": "https://localhost:8080/"
        },
        "id": "hp8Dc0mxwHm7",
        "outputId": "31c97037-8c46-4856-dcf1-64b882f6a924"
      },
      "execution_count": null,
      "outputs": [
        {
          "output_type": "stream",
          "name": "stdout",
          "text": [
            "Enter the 1st side : 10\n",
            "Enter the 1st side : 10\n",
            "Enter the 1st side : 5\n",
            "The triangle is isosceles.\n"
          ]
        }
      ]
    },
    {
      "cell_type": "markdown",
      "source": [
        "13.Write a program in Python to check a given year is leapyear or not."
      ],
      "metadata": {
        "id": "HHx7KUlxxRLx"
      }
    },
    {
      "cell_type": "code",
      "source": [
        "year = int(input(\"Enter the year : \"))\n",
        "\n",
        "if (year % 4 == 0 and year % 100 != 0) or (year % 400 == 0):\n",
        "    print(f\"{year} is a leap year.\")"
      ],
      "metadata": {
        "colab": {
          "base_uri": "https://localhost:8080/"
        },
        "id": "1-dv_S3nxZOa",
        "outputId": "03ef939a-0aae-4265-e5d5-93a1337dfc41"
      },
      "execution_count": null,
      "outputs": [
        {
          "output_type": "stream",
          "name": "stdout",
          "text": [
            "Enter the year : 2004\n",
            "2004 is a leap year.\n"
          ]
        }
      ]
    },
    {
      "cell_type": "markdown",
      "source": [
        "14.Take marks of a student of four different subject find average depending on average find Grade(if marks >=75 i.e,’A’ or >=60 but <=75 i.e,’B’ or >=40 but <=60 i.e,’C’ or <=40 i.e,’D’).\n"
      ],
      "metadata": {
        "id": "W4DVx16Gx4Ow"
      }
    },
    {
      "cell_type": "code",
      "source": [
        "mark1 = float(input(\"Enter marks for subject 1: \"))\n",
        "mark2 = float(input(\"Enter marks for subject 2: \"))\n",
        "mark3 = float(input(\"Enter marks for subject 3: \"))\n",
        "mark4 = float(input(\"Enter marks for subject 4: \"))\n",
        "\n",
        "average = (mark1 + mark2 + mark3 + mark4) / 4\n",
        "print(\"Average marks:\", average)\n",
        "\n",
        "if average >= 75:\n",
        "    grade = 'A'\n",
        "elif average >= 60:\n",
        "    grade = 'B'\n",
        "elif average >= 40:\n",
        "    grade = 'C'\n",
        "else:\n",
        "    grade = 'D'\n",
        "\n",
        "print(\"Grade:\", grade)"
      ],
      "metadata": {
        "colab": {
          "base_uri": "https://localhost:8080/"
        },
        "id": "MwcJVXArxw3D",
        "outputId": "8ec15855-56ba-4cfa-b012-3a8ba3ba11cb"
      },
      "execution_count": null,
      "outputs": [
        {
          "output_type": "stream",
          "name": "stdout",
          "text": [
            "Enter marks for subject 1: 40\n",
            "Enter marks for subject 2: 60\n",
            "Enter marks for subject 3: 70\n",
            "Enter marks for subject 4: 50\n",
            "Average marks: 55.0\n",
            "Grade: C\n"
          ]
        }
      ]
    },
    {
      "cell_type": "markdown",
      "source": [
        "15.Write a program in Python to implement a simple calculator"
      ],
      "metadata": {
        "id": "RKf9XqcjyhXt"
      }
    },
    {
      "cell_type": "code",
      "source": [
        "def add(x, y):\n",
        "    return x + y\n",
        "\n",
        "def subtract(x, y):\n",
        "    return x - y\n",
        "\n",
        "def multiply(x, y):\n",
        "    return x * y\n",
        "\n",
        "def divide(x, y):\n",
        "    if y == 0:\n",
        "        return \"Division by zero!\"\n",
        "    else:\n",
        "        return x / y\n",
        "\n",
        "while True:\n",
        "    print(\"Select operation:\")\n",
        "    print(\"1. Add\")\n",
        "    print(\"2. Subtract\")\n",
        "    print(\"3. Multiply\")\n",
        "    print(\"4. Divide\")\n",
        "    print(\"5. Exit\")\n",
        "\n",
        "    choice = input(\"Enter choice(1/2/3/4/5): \")\n",
        "\n",
        "    if choice in ('1', '2', '3', '4'):\n",
        "        try:\n",
        "            num1 = float(input(\"Enter first number: \"))\n",
        "            num2 = float(input(\"Enter second number: \"))\n",
        "        except ValueError:\n",
        "            print(\"Invalid input. Please enter numbers only.\")\n",
        "            continue\n",
        "    else:\n",
        "        if choice =='1':\n",
        "            print(\"Result:\", add(num1, num2))\n",
        "        elif choice =='2':\n",
        "            print(\"Result:\", subtract(num1, num2))\n",
        "        elif choice =='3':\n",
        "            print(\"Result:\", multiply(num1, num2))\n",
        "        elif choice =='4':\n",
        "            print(\"Result:\", divide(num1, num2))\n",
        "        elif choice =='5':\n",
        "            print(\"Exiting the calculator.\")\n",
        "            break"
      ],
      "metadata": {
        "colab": {
          "base_uri": "https://localhost:8080/"
        },
        "id": "rjUCjKkBywy-",
        "outputId": "3e6ecd5c-9a73-4d90-8636-b0b42d434c96"
      },
      "execution_count": null,
      "outputs": [
        {
          "output_type": "stream",
          "name": "stdout",
          "text": [
            "Select operation:\n",
            "1. Add\n",
            "2. Subtract\n",
            "3. Multiply\n",
            "4. Divide\n",
            "5. Exit\n",
            "Enter choice(1/2/3/4/5): 1\n",
            "Enter first number: 12\n",
            "Enter second number: 23\n",
            "Select operation:\n",
            "1. Add\n",
            "2. Subtract\n",
            "3. Multiply\n",
            "4. Divide\n",
            "5. Exit\n",
            "Enter choice(1/2/3/4/5): 5\n",
            "Exiting the calculator.\n"
          ]
        }
      ]
    },
    {
      "cell_type": "markdown",
      "source": [
        "16.Write a program in Python to find the roots of Quadratic equation."
      ],
      "metadata": {
        "id": "Ou2SNwx-0Foh"
      }
    },
    {
      "cell_type": "code",
      "source": [
        "import cmath\n",
        "\n",
        "a = float(input('Enter a: '))\n",
        "b = float(input('Enter b: '))\n",
        "c = float(input('Enter c: '))\n",
        "\n",
        "d = (b**2) - (4*a*c)\n",
        "\n",
        "sol1 = (-b-cmath.sqrt(d))/(2*a)\n",
        "sol2 = (-b+cmath.sqrt(d))/(2*a)\n",
        "\n",
        "print(f'The solution are {sol1} and {sol2}')"
      ],
      "metadata": {
        "colab": {
          "base_uri": "https://localhost:8080/"
        },
        "id": "m15ep6XH0Xkb",
        "outputId": "4dd2cfff-3949-49f2-8f6f-7f0d05e75e52"
      },
      "execution_count": null,
      "outputs": [
        {
          "output_type": "stream",
          "name": "stdout",
          "text": [
            "Enter a: 10\n",
            "Enter b: 12\n",
            "Enter c: 15\n",
            "The solution are (-0.6-1.0677078252031311j) and (-0.6+1.0677078252031311j)\n"
          ]
        }
      ]
    },
    {
      "cell_type": "markdown",
      "source": [],
      "metadata": {
        "id": "cgKJih9f1ILM"
      }
    },
    {
      "cell_type": "markdown",
      "source": [
        "17.Write a program in Python to print 1 to n.\n"
      ],
      "metadata": {
        "id": "YbKrmelG1L9t"
      }
    },
    {
      "cell_type": "code",
      "source": [
        "n = int(input(\"Enter the value of n: \"))\n",
        "\n",
        "for i in range(1, n + 1):\n",
        "    print(i)"
      ],
      "metadata": {
        "colab": {
          "base_uri": "https://localhost:8080/"
        },
        "id": "-lVL8ET90_1J",
        "outputId": "7711b63f-ad05-4293-d245-f0e25141756e"
      },
      "execution_count": null,
      "outputs": [
        {
          "output_type": "stream",
          "name": "stdout",
          "text": [
            "Enter the value of n: 5\n",
            "1\n",
            "2\n",
            "3\n",
            "4\n",
            "5\n"
          ]
        }
      ]
    },
    {
      "cell_type": "markdown",
      "source": [
        "18.Write a program in Python to print sum of natural number.\n"
      ],
      "metadata": {
        "id": "AKEi9ZiQ2FYV"
      }
    },
    {
      "cell_type": "code",
      "source": [
        "num = int(input(\"Enter the value of n: \"))\n",
        "sum = 0\n",
        "\n",
        "for i in range(1, num + 1):\n",
        "    sum += i\n",
        "\n",
        "print(\"The sum of natural numbers from 1 to\", num, \"is:\", sum)"
      ],
      "metadata": {
        "colab": {
          "base_uri": "https://localhost:8080/"
        },
        "id": "3zyxdqX01se5",
        "outputId": "f2608b92-ace0-4398-ebd5-609da16cdb67"
      },
      "execution_count": null,
      "outputs": [
        {
          "output_type": "stream",
          "name": "stdout",
          "text": [
            "Enter the value of n: 10\n",
            "The sum of natural numbers from 1 to 10 is: 55\n"
          ]
        }
      ]
    },
    {
      "cell_type": "markdown",
      "source": [
        "19.Write a program in Python to print Sum of Digit.\n"
      ],
      "metadata": {
        "id": "MbgURzau2Vvj"
      }
    },
    {
      "cell_type": "code",
      "source": [
        "num = int(input(\"Enter a number: \"))\n",
        "sum_of_digits = 0\n",
        "\n",
        "while num > 0:\n",
        "    digit = num % 10\n",
        "    sum_of_digits += digit\n",
        "    num //= 10\n",
        "\n",
        "print(\"The sum of digits is:\", sum_of_digits)"
      ],
      "metadata": {
        "colab": {
          "base_uri": "https://localhost:8080/"
        },
        "id": "8wno06Ry1ZoU",
        "outputId": "bf260799-3c65-4dd9-c90c-7e7d73edda26"
      },
      "execution_count": null,
      "outputs": [
        {
          "output_type": "stream",
          "name": "stdout",
          "text": [
            "Enter a number: 123\n",
            "The sum of digits is: 6\n"
          ]
        }
      ]
    },
    {
      "cell_type": "markdown",
      "source": [
        "20.Write a program in Python to print Factors of a Number."
      ],
      "metadata": {
        "id": "dV8bhkKJ2v3F"
      }
    },
    {
      "cell_type": "code",
      "source": [
        "num = int(input(\"Enter a number: \"))\n",
        "\n",
        "print(\"Factors of\", num, \"are:\")\n",
        "for i in range(1, num + 1):\n",
        "    if num % i == 0:\n",
        "        print(i)"
      ],
      "metadata": {
        "colab": {
          "base_uri": "https://localhost:8080/"
        },
        "id": "pCMyHl4N2obC",
        "outputId": "b4024371-2969-4841-a261-0110ea221d0e"
      },
      "execution_count": null,
      "outputs": [
        {
          "output_type": "stream",
          "name": "stdout",
          "text": [
            "Enter a number: 10\n",
            "Factors of 10 are:\n",
            "1\n",
            "2\n",
            "5\n",
            "10\n"
          ]
        }
      ]
    },
    {
      "cell_type": "markdown",
      "source": [
        "21.Write a program in Python to print Reverse of a Number."
      ],
      "metadata": {
        "id": "P0w_LHcP3cJI"
      }
    },
    {
      "cell_type": "code",
      "source": [
        "num = int(input(\"Enter a number: \"))\n",
        "rev_num = 0\n",
        "while num > 0:\n",
        "    digit = num % 10\n",
        "    rev_num=rev_num*10+digit\n",
        "    num //= 10\n",
        "\n",
        "print(\"The Reverse number is = \",rev_num)"
      ],
      "metadata": {
        "colab": {
          "base_uri": "https://localhost:8080/"
        },
        "id": "lsXgReUS3mTs",
        "outputId": "e3793e4a-7fa3-4397-e0db-031871b3ec70"
      },
      "execution_count": null,
      "outputs": [
        {
          "output_type": "stream",
          "name": "stdout",
          "text": [
            "Enter a number: 1234\n",
            "The Reverse number is =  4321\n"
          ]
        }
      ]
    },
    {
      "cell_type": "markdown",
      "source": [
        "22.Write a Python program to find Factorial of a given number."
      ],
      "metadata": {
        "id": "_uE-Dzx57tRl"
      }
    },
    {
      "cell_type": "code",
      "source": [
        "num = int(input(\"Enter the value of n: \"))\n",
        "fact = 1\n",
        "\n",
        "for i in range(1, num + 1):\n",
        "    fact *= i\n",
        "\n",
        "print(\"The factorial of the number\", num, \"is:\", fact)"
      ],
      "metadata": {
        "colab": {
          "base_uri": "https://localhost:8080/"
        },
        "id": "AxN6GRZ937br",
        "outputId": "abe7f1bb-8152-4ed7-fdff-c74ffd822bed"
      },
      "execution_count": null,
      "outputs": [
        {
          "output_type": "stream",
          "name": "stdout",
          "text": [
            "Enter the value of n: 5\n",
            "The factorial of the number 5 is: 120\n"
          ]
        }
      ]
    },
    {
      "cell_type": "markdown",
      "source": [
        "23.Write a Python program to check a number is palindrome or not."
      ],
      "metadata": {
        "id": "3CLWW3tc8j0s"
      }
    },
    {
      "cell_type": "code",
      "source": [
        "num = int(input(\"Enter a number: \"))\n",
        "temp = num\n",
        "rev_num = 0\n",
        "\n",
        "while num > 0:\n",
        "    digit = num % 10\n",
        "    rev_num = rev_num * 10 + digit\n",
        "    num =num//10\n",
        "\n",
        "if temp == rev_num:\n",
        "    print(temp, \"is a palindrome number.\")\n",
        "else:\n",
        "    print(temp, \"is not a palindrome number.\")"
      ],
      "metadata": {
        "colab": {
          "base_uri": "https://localhost:8080/"
        },
        "id": "8oVhB2QC8zcp",
        "outputId": "5cfb3c01-ffd2-46ec-cd4a-43d61266bc82"
      },
      "execution_count": null,
      "outputs": [
        {
          "output_type": "stream",
          "name": "stdout",
          "text": [
            "Enter a number: 141\n",
            "141 is a palindrome number.\n"
          ]
        }
      ]
    },
    {
      "cell_type": "markdown",
      "source": [
        "24.Write a Python program to check a number is prime or not."
      ],
      "metadata": {
        "id": "ZJ-wcJrZ-k9U"
      }
    },
    {
      "cell_type": "code",
      "source": [
        "def is_prime(num):\n",
        "  if num <= 1:\n",
        "    return False\n",
        "  if num <= 3:\n",
        "    return True\n",
        "  if num % 2 == 0 or num % 3 == 0:\n",
        "    return False\n",
        "  i = 5\n",
        "  while i * i <= num:\n",
        "    if num % i == 0 or num % (i + 2) == 0:\n",
        "      return False\n",
        "    i += 6\n",
        "  return True\n",
        "\n",
        "# Get input from the user\n",
        "num = int(input(\"Enter a number: \"))\n",
        "\n",
        "# Check if the number is prime and print the result\n",
        "if is_prime(num):\n",
        "  print(num, \"is a prime number.\")\n",
        "else:\n",
        "  print(num, \"is not a prime number.\")"
      ],
      "metadata": {
        "colab": {
          "base_uri": "https://localhost:8080/"
        },
        "id": "O3xfGO3L9Z1W",
        "outputId": "a34ecbae-9298-45ec-fc73-3405571b8166"
      },
      "execution_count": null,
      "outputs": [
        {
          "output_type": "stream",
          "name": "stdout",
          "text": [
            "Enter a number: 5\n",
            "5 is a prime number.\n"
          ]
        }
      ]
    },
    {
      "cell_type": "markdown",
      "source": [
        "25.Write a Python program to check a number is Armstrong or not."
      ],
      "metadata": {
        "id": "HBD-P3VV_Rcj"
      }
    },
    {
      "cell_type": "code",
      "source": [
        "num = int(input(\"Enter a number: \"))\n",
        "sum = 0\n",
        "temp = num\n",
        "order = len(str(num))\n",
        "\n",
        "while temp > 0:\n",
        "   digit = temp % 10\n",
        "   sum += digit ** order\n",
        "   temp //= 10\n",
        "\n",
        "if num == sum:\n",
        "   print(num,\"is an Armstrong number\")\n",
        "else:\n",
        "   print(num,\"is not an Armstrong number\")\n"
      ],
      "metadata": {
        "colab": {
          "base_uri": "https://localhost:8080/"
        },
        "id": "0WHo-ZVU_RAV",
        "outputId": "42b6c82a-bbb2-491f-fdfa-8468ef657974"
      },
      "execution_count": null,
      "outputs": [
        {
          "output_type": "stream",
          "name": "stdout",
          "text": [
            "Enter a number: 153\n",
            "153 is an Armstrong number\n"
          ]
        }
      ]
    },
    {
      "cell_type": "markdown",
      "source": [
        "26.Write a Python program to print Fibonacci series of n term\n"
      ],
      "metadata": {
        "id": "AewvuaceAF6K"
      }
    },
    {
      "cell_type": "code",
      "source": [
        "# Get input for the number of terms\n",
        "nterms = int(input(\"Enter range : \"))\n",
        "\n",
        "# First two terms\n",
        "n1, n2 = 0, 1\n",
        "count = 0\n",
        "\n",
        "# Check if the number of terms is valid\n",
        "if nterms <= 0:\n",
        "   print(\"Please enter a positive integer\")\n",
        "else:\n",
        "   print(\"Fibonacci sequence:\")\n",
        "   while count < nterms:\n",
        "       print(n1)\n",
        "       nth = n1 + n2\n",
        "       n1 = n2\n",
        "       n2 = nth\n",
        "       count += 1"
      ],
      "metadata": {
        "colab": {
          "base_uri": "https://localhost:8080/"
        },
        "id": "RdvF-V2QAFSe",
        "outputId": "87ae9b21-5a89-4f5a-d2ef-c586c95d3f96"
      },
      "execution_count": null,
      "outputs": [
        {
          "output_type": "stream",
          "name": "stdout",
          "text": [
            "Enter range : 10\n",
            "Fibonacci sequence:\n",
            "0\n",
            "1\n",
            "1\n",
            "2\n",
            "3\n",
            "5\n",
            "8\n",
            "13\n",
            "21\n",
            "34\n"
          ]
        }
      ]
    },
    {
      "cell_type": "markdown",
      "source": [
        "27.Write a Python program to implement multiplication table."
      ],
      "metadata": {
        "id": "t23D43l0Ahze"
      }
    },
    {
      "cell_type": "code",
      "source": [
        "num = int(input(\"Enter the number for the multiplication table: \"))\n",
        "\n",
        "for i in range(1,11):\n",
        "    result = num * i\n",
        "    print(f\"{num} * {i} = {result}\")"
      ],
      "metadata": {
        "id": "uBTxpat8_Iq5",
        "outputId": "bb766b3d-6f6e-4f23-b037-bd216e94fcc6",
        "colab": {
          "base_uri": "https://localhost:8080/"
        }
      },
      "execution_count": null,
      "outputs": [
        {
          "output_type": "stream",
          "name": "stdout",
          "text": [
            "Enter the number for the multiplication table: 5\n",
            "5 * 1 = 5\n",
            "5 * 2 = 10\n",
            "5 * 3 = 15\n",
            "5 * 4 = 20\n",
            "5 * 5 = 25\n",
            "5 * 6 = 30\n",
            "5 * 7 = 35\n",
            "5 * 8 = 40\n",
            "5 * 9 = 45\n",
            "5 * 10 = 50\n"
          ]
        }
      ]
    },
    {
      "cell_type": "markdown",
      "source": [
        "28.Write a Python program to take a input from user in a list and print it."
      ],
      "metadata": {
        "id": "1thyC9sigTbl"
      }
    },
    {
      "cell_type": "code",
      "source": [
        "user=input(\"Enter the list of transaction : \").split(\" \")\n",
        "lst=[x for x in user]\n",
        "for i in lst:\n",
        "  print(i)\n"
      ],
      "metadata": {
        "colab": {
          "base_uri": "https://localhost:8080/"
        },
        "id": "SafdxXOCgW0b",
        "outputId": "11a923df-3b2e-46d7-cc04-139f030a0d52"
      },
      "execution_count": null,
      "outputs": [
        {
          "output_type": "stream",
          "name": "stdout",
          "text": [
            "Enter the list of transaction : 12 13 14 15 16\n",
            "12\n",
            "13\n",
            "14\n",
            "15\n",
            "16\n"
          ]
        }
      ]
    },
    {
      "cell_type": "markdown",
      "source": [
        "29.Write a Python program to find the average of n numbers using list."
      ],
      "metadata": {
        "id": "4QRMZRGlhdxc"
      }
    },
    {
      "cell_type": "code",
      "source": [
        "user=input(\"Enter the list of transaction : \").split(\" \")\n",
        "lst=[float(x) for x in user]\n",
        "length=len(lst)\n",
        "sum=0\n",
        "for i in lst:\n",
        "  sum=sum+i\n",
        "\n",
        "avg=sum/length\n",
        "print(\"The average of the list is : \",avg)"
      ],
      "metadata": {
        "colab": {
          "base_uri": "https://localhost:8080/"
        },
        "id": "tEI9Yj4-hQbh",
        "outputId": "de4b8686-b64b-4b69-ccdc-25471856ecf0"
      },
      "execution_count": null,
      "outputs": [
        {
          "output_type": "stream",
          "name": "stdout",
          "text": [
            "Enter the list of transaction : 1 2 3 4 5 6 7 8 9\n",
            "The average of the list is :  5.0\n"
          ]
        }
      ]
    },
    {
      "cell_type": "markdown",
      "source": [
        "30.Write a Python program to find the largest element in the list."
      ],
      "metadata": {
        "id": "3thPtHhziEii"
      }
    },
    {
      "cell_type": "code",
      "source": [
        "user=input(\"Enter the list of transaction : \").split(\" \")\n",
        "lst=[float(x) for x in user]\n",
        "largest=lst[0]\n",
        "for i in lst:\n",
        "  if i>largest:\n",
        "    largest=i\n",
        "print(\"The largest element in the list is : \",largest)"
      ],
      "metadata": {
        "colab": {
          "base_uri": "https://localhost:8080/"
        },
        "id": "zr64tsMRh8ms",
        "outputId": "3b22cc07-29fb-4889-be5c-5e69973b1774"
      },
      "execution_count": null,
      "outputs": [
        {
          "output_type": "stream",
          "name": "stdout",
          "text": [
            "Enter the list of transaction : 1 2 3 1 1 4 0 2\n",
            "The largest element in the list is :  4.0\n"
          ]
        }
      ]
    },
    {
      "cell_type": "markdown",
      "source": [
        "31.Write a Python program to perform Linear search."
      ],
      "metadata": {
        "id": "qsQLZLASialW"
      }
    },
    {
      "cell_type": "code",
      "source": [
        "user=input(\"Enter the list of transaction : \").split(\" \")\n",
        "lst=[float(x) for x in user]\n",
        "search = float(input(\"Enter the number to search : \"))\n",
        "for i in range(len(lst)):\n",
        "    if lst[i] == search:\n",
        "        print(f\"{search} found at {i+1} position.\")\n",
        "        break\n",
        "else:\n",
        "    print(f\"{search} not found in the list\")"
      ],
      "metadata": {
        "colab": {
          "base_uri": "https://localhost:8080/"
        },
        "id": "l2K8S9XYiSM6",
        "outputId": "52e2a4db-94a2-4821-8e60-98a9f1ffe478"
      },
      "execution_count": null,
      "outputs": [
        {
          "output_type": "stream",
          "name": "stdout",
          "text": [
            "Enter the list of transaction : 1 2 3 4 5 6 7 8\n",
            "Enter the number to search : 4\n",
            "4.0 found at 4 position.\n"
          ]
        }
      ]
    },
    {
      "cell_type": "markdown",
      "source": [
        "32.Write a program that accepts sequence of lines as input and prints the lines after making all characters in the sentence capitalized."
      ],
      "metadata": {
        "id": "LyHZIpIcjJft"
      }
    },
    {
      "cell_type": "code",
      "source": [
        "lines = []\n",
        "\n",
        "while True:\n",
        "    line = input(\"Enter a line (leave empty to finish): \")\n",
        "    if not line:\n",
        "        break\n",
        "    lines.append(line)\n",
        "\n",
        "print(\"Capitalized lines:\")\n",
        "for line in lines:\n",
        "    print(line.upper())"
      ],
      "metadata": {
        "colab": {
          "base_uri": "https://localhost:8080/"
        },
        "id": "WxWEB7rbjWDV",
        "outputId": "ee993dc2-771a-4c39-acab-3e5013b5adca"
      },
      "execution_count": null,
      "outputs": [
        {
          "output_type": "stream",
          "name": "stdout",
          "text": [
            "Enter a line (leave empty to finish): Hello world\n",
            "Enter a line (leave empty to finish): Practice makes perfect\n",
            "Enter a line (leave empty to finish): Then, the output should be:\n",
            "Enter a line (leave empty to finish): HELLO WORLD\n",
            "Enter a line (leave empty to finish): PRACTICE MAKES PERFECT\n",
            "Enter a line (leave empty to finish): \n",
            "Capitalized lines:\n",
            "HELLO WORLD\n",
            "PRACTICE MAKES PERFECT\n",
            "THEN, THE OUTPUT SHOULD BE:\n",
            "HELLO WORLD\n",
            "PRACTICE MAKES PERFECT\n"
          ]
        }
      ]
    },
    {
      "cell_type": "markdown",
      "source": [
        "33.Write a program which accepts a sequence of comma‐separated numbers from console and generate a list and a tuple which contains every number.\n",
        "Suppose the following input is supplied to the program:\n",
        "34,67,55,33,12,98\n",
        "\n",
        "Then, the output should be:\n",
        "\n",
        "['34', '67', '55', '33', '12', '98']\n",
        "\n",
        "('34', '67', '55', '33', '12', '98')\n"
      ],
      "metadata": {
        "id": "x0A5ZYVwk2Bd"
      }
    },
    {
      "cell_type": "code",
      "source": [
        "numbers_string = input(\"Enter comma-separated numbers: \")\n",
        "\n",
        "# Split the string into a list\n",
        "number_list = numbers_string.split(',')\n",
        "\n",
        "# Convert the list to a tuple\n",
        "number_tuple = tuple(number_list)\n",
        "\n",
        "# Print the list and tuple\n",
        "print(number_list)\n",
        "print(number_tuple)"
      ],
      "metadata": {
        "colab": {
          "base_uri": "https://localhost:8080/"
        },
        "id": "36KbIWGgiv3T",
        "outputId": "93e7f65c-21ee-42ad-968f-6458f8c6fef7"
      },
      "execution_count": null,
      "outputs": [
        {
          "output_type": "stream",
          "name": "stdout",
          "text": [
            "Enter comma-separated numbers: 34,67,55,33,12,98\n",
            "['34', '67', '55', '33', '12', '98']\n",
            "('34', '67', '55', '33', '12', '98')\n"
          ]
        }
      ]
    },
    {
      "cell_type": "markdown",
      "source": [
        "Write a program that computes the net amount of a bank account based a transaction log from console input. The transaction log format is shown as following:\n",
        "\n",
        "D 100\n",
        "\n",
        "W 200\n",
        "\n",
        "D means deposit while W means withdrawal.\n",
        "\n",
        "Suppose the following input is supplied to the program:\n",
        "\n",
        "D 300\n",
        "\n",
        "D 300\n",
        "\n",
        "W 200\n",
        "\n",
        "D 100\n",
        "\n",
        "Then, the output should be:\n",
        "500"
      ],
      "metadata": {
        "id": "t5UrHL8Glg7T"
      }
    },
    {
      "cell_type": "code",
      "source": [
        "print(\"Enter the list of transaction : \")\n",
        "user=input(\"Enter the list of transaction : \").split(\",\")\n",
        "s=[x for x in user]\n",
        "bal=0\n",
        "for i in s:\n",
        "    if \"D\" in i :\n",
        "        i=i.replace(\"D\",\"\")\n",
        "        i=float(i)\n",
        "        bal=bal+i\n",
        "    elif \"W\" in i:\n",
        "         i=i.replace(\"W\",\"\")\n",
        "         i=float(i)\n",
        "         bal=bal-i\n",
        "    else:\n",
        "        pass\n",
        "\n",
        "print(f\"Total balance is : {bal}\")"
      ],
      "metadata": {
        "colab": {
          "base_uri": "https://localhost:8080/"
        },
        "id": "A4zVhiPqlM59",
        "outputId": "6d1f57cc-4986-432b-a407-ae2aae50f8c2"
      },
      "execution_count": null,
      "outputs": [
        {
          "output_type": "stream",
          "name": "stdout",
          "text": [
            "Enter the list of transaction : \n",
            "Enter the list of transaction : D 300 ,D 300 ,W 200 ,D 100\n",
            "Total balance is : 500.0\n"
          ]
        }
      ]
    },
    {
      "cell_type": "code",
      "source": [],
      "metadata": {
        "id": "vTMN95qml_9N"
      },
      "execution_count": null,
      "outputs": []
    }
  ]
}